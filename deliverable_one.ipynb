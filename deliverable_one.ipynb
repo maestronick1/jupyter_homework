{
 "cells": [
  {
   "cell_type": "code",
   "execution_count": 1,
   "metadata": {},
   "outputs": [
    {
     "name": "stdout",
     "output_type": "stream",
     "text": [
      "Hello there\n",
      "Hello there\n",
      "Hello there\n"
     ]
    }
   ],
   "source": [
    "def p_times(statement, num):\n",
    "    for i in range(num):\n",
    "        print(f'{statement}')\n",
    "\n",
    "p_times('Hello there', 3)\n"
   ]
  },
  {
   "cell_type": "code",
   "execution_count": 2,
   "metadata": {},
   "outputs": [
    {
     "name": "stdout",
     "output_type": "stream",
     "text": [
      "{'b': 1, 'a': 3, 'n': 2}\n"
     ]
    }
   ],
   "source": [
    "def letter_count(str):\n",
    "     dd = {}\n",
    "     for letter in str:\n",
    "         if letter in dd:\n",
    "             dd[letter] += 1\n",
    "         else: \n",
    "             dd[letter] = 1\n",
    "     print(dd)\n",
    "letter_count('banana')"
   ]
  },
  {
   "cell_type": "code",
   "execution_count": 3,
   "metadata": {},
   "outputs": [
    {
     "name": "stdout",
     "output_type": "stream",
     "text": [
      "Brian has a phone number of 333-333-3333\n",
      "Lenny has a phone number of 444-444-4444\n",
      "Daniel has a phone number of 777-777-7777\n"
     ]
    }
   ],
   "source": [
    "def print_contacts(contacts):\n",
    "  for name, phone in contacts.items():\n",
    "    print(f'{name} has a phone number of {phone}')\n",
    "  \n",
    "contacts = {\n",
    "  'Brian': '333-333-3333',\n",
    "  'Lenny': '444-444-4444',\n",
    "  'Daniel': '777-777-7777'\n",
    "}\n",
    "print_contacts(contacts)"
   ]
  },
  {
   "cell_type": "code",
   "execution_count": 4,
   "metadata": {},
   "outputs": [
    {
     "name": "stdout",
     "output_type": "stream",
     "text": [
      "5\n",
      "10\n",
      "15\n"
     ]
    }
   ],
   "source": [
    "def multiply_by(list, num):\n",
    "    for number in list:\n",
    "        print(number * num)\n",
    "multiply_by([1, 2, 3], 5)"
   ]
  },
  {
   "cell_type": "code",
   "execution_count": 5,
   "metadata": {},
   "outputs": [
    {
     "name": "stdout",
     "output_type": "stream",
     "text": [
      "120\n"
     ]
    }
   ],
   "source": [
    "def factorial(num):\n",
    "    i = num - 1\n",
    "    while i > 0:\n",
    "        num = num * i\n",
    "        i -= 1\n",
    "    print(num)\n",
    "factorial(5)"
   ]
  },
  {
   "cell_type": "code",
   "execution_count": null,
   "metadata": {},
   "outputs": [],
   "source": []
  }
 ],
 "metadata": {
  "kernelspec": {
   "display_name": "Python 3",
   "language": "python",
   "name": "python3"
  },
  "language_info": {
   "codemirror_mode": {
    "name": "ipython",
    "version": 3
   },
   "file_extension": ".py",
   "mimetype": "text/x-python",
   "name": "python",
   "nbconvert_exporter": "python",
   "pygments_lexer": "ipython3",
   "version": "3.8.5"
  }
 },
 "nbformat": 4,
 "nbformat_minor": 4
}
