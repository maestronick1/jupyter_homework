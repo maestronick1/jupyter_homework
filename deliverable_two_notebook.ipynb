{
 "cells": [
  {
   "cell_type": "code",
   "execution_count": 1,
   "metadata": {},
   "outputs": [],
   "source": [
    "import random \n",
    "words = [\n",
    "    'beethoven',\n",
    "    'Mozart',\n",
    "    'Rachmaninov',\n",
    "    'Mahler',\n",
    "    'Chopin'\n",
    "]\n"
   ]
  },
  {
   "cell_type": "code",
   "execution_count": 2,
   "metadata": {},
   "outputs": [],
   "source": [
    "def hangman (lst):\n",
    "    guess = []\n",
    "    random_word = random.choice(lst)\n",
    "    random_word1 = random_word.upper()\n",
    "    random_list = list(random_word1)\n",
    "    underscore = '_' * len(random_word1)\n",
    "    result = ' '.join(list(underscore))\n",
    "    print(result)\n",
    "    guess_letter = []\n",
    "    secret_word = []\n",
    "    guess_left = 7\n",
    "\n",
    "    while guess_left >= 2:\n",
    "        guess_input = input('Guess a Letter: ').upper()\n",
    "        guess.append(guess_input)\n",
    "        print('letters you have guessed already', guess)\n",
    "        print(\"Amount of guesses you have left\", guess_left)\n",
    "        if guess_input in random_list:\n",
    "            print(\"Great!, the word has the letter: \" + guess_input)\n",
    "            index = random_list.index(guess_input)\n",
    "            underscore = print_letter(index, random_list, underscore)\n",
    "            random_list = change_letter(index, random_list)\n",
    "            check_list = (random_list)\n",
    "        else:\n",
    "            guess_left -= 1\n",
    "            print('Sorry that letter was incorrect')\n",
    "            if guess_left < 7:\n",
    "                print(('''\n",
    "       ______\n",
    "      |      | \n",
    "      |      O\n",
    "      |\n",
    "      |\n",
    "    |'''))\n",
    "                if guess_left < 6:\n",
    "                    print(('''\n",
    "       ______\n",
    "      |      | \n",
    "      |      O\n",
    "      |      |\n",
    "      |\n",
    "    |'''))\n",
    "                    if guess_left < 5:\n",
    "                        print(('''\n",
    "       ______\n",
    "      |      | \n",
    "      |      O\n",
    "      |      |-\n",
    "      |\n",
    "    |'''))\n",
    "                        if guess_left < 4:\n",
    "                            print(('''\n",
    "       ______\n",
    "      |      | \n",
    "      |      O\n",
    "      |     -|-\n",
    "      |\n",
    "    |'''))\n",
    "                            if guess_left < 3:\n",
    "                                print(('''\n",
    "       ______\n",
    "      |      | \n",
    "      |      O\n",
    "      |     -|-\n",
    "      |      /\n",
    "    |'''))\n",
    "                                if guess_left < 2:\n",
    "                                    print(('''\n",
    "       ______\n",
    "      |      | \n",
    "      |      O\n",
    "      |     -|-\n",
    "      |     /|\n",
    "    |'''))\n"
   ]
  },
  {
   "cell_type": "code",
   "execution_count": 3,
   "metadata": {},
   "outputs": [],
   "source": [
    "def print_letter(idx, word, underscore):\n",
    "    result = list(underscore)\n",
    "    # print('RESULT',result)\n",
    "    for i in range(len(word)):\n",
    "        if i == idx:\n",
    "            result[i] = word[i]\n",
    "    underscore = ''.join(result)\n",
    "    res = ' '.join(list(underscore)) \n",
    "    print(res)\n",
    "    # print(underscore)\n",
    "    return underscore "
   ]
  },
  {
   "cell_type": "code",
   "execution_count": null,
   "metadata": {},
   "outputs": [],
   "source": [
    "\n",
    "def change_letter(index, lst):\n",
    "    for i in range(len(lst)):\n",
    "        if i == index:\n",
    "            lst[i] = '.'\n",
    "    return lst "
   ]
  },
  {
   "cell_type": "code",
   "execution_count": 4,
   "metadata": {},
   "outputs": [
    {
     "name": "stdout",
     "output_type": "stream",
     "text": [
      "_ _ _ _ _ _ _ _ _\n"
     ]
    },
    {
     "name": "stdin",
     "output_type": "stream",
     "text": [
      "Guess a Letter:  h\n"
     ]
    },
    {
     "name": "stdout",
     "output_type": "stream",
     "text": [
      "letters you have guessed already ['H']\n",
      "Amount of guesses you have left 7\n",
      "Great!, the word has the letter: H\n",
      "_ _ _ _ H _ _ _ _\n"
     ]
    },
    {
     "ename": "NameError",
     "evalue": "name 'change_letter' is not defined",
     "output_type": "error",
     "traceback": [
      "\u001b[0;31m---------------------------------------------------------------------------\u001b[0m",
      "\u001b[0;31mNameError\u001b[0m                                 Traceback (most recent call last)",
      "\u001b[0;32m<ipython-input-4-a941ef4d8a35>\u001b[0m in \u001b[0;36m<module>\u001b[0;34m\u001b[0m\n\u001b[1;32m     13\u001b[0m \u001b[0;34m\u001b[0m\u001b[0m\n\u001b[1;32m     14\u001b[0m \u001b[0;34m\u001b[0m\u001b[0m\n\u001b[0;32m---> 15\u001b[0;31m \u001b[0mhangman\u001b[0m\u001b[0;34m(\u001b[0m\u001b[0mwords\u001b[0m\u001b[0;34m)\u001b[0m\u001b[0;34m\u001b[0m\u001b[0;34m\u001b[0m\u001b[0m\n\u001b[0m",
      "\u001b[0;32m<ipython-input-2-7dc693be00b0>\u001b[0m in \u001b[0;36mhangman\u001b[0;34m(lst)\u001b[0m\n\u001b[1;32m     20\u001b[0m             \u001b[0mindex\u001b[0m \u001b[0;34m=\u001b[0m \u001b[0mrandom_list\u001b[0m\u001b[0;34m.\u001b[0m\u001b[0mindex\u001b[0m\u001b[0;34m(\u001b[0m\u001b[0mguess_input\u001b[0m\u001b[0;34m)\u001b[0m\u001b[0;34m\u001b[0m\u001b[0;34m\u001b[0m\u001b[0m\n\u001b[1;32m     21\u001b[0m             \u001b[0munderscore\u001b[0m \u001b[0;34m=\u001b[0m \u001b[0mprint_letter\u001b[0m\u001b[0;34m(\u001b[0m\u001b[0mindex\u001b[0m\u001b[0;34m,\u001b[0m \u001b[0mrandom_list\u001b[0m\u001b[0;34m,\u001b[0m \u001b[0munderscore\u001b[0m\u001b[0;34m)\u001b[0m\u001b[0;34m\u001b[0m\u001b[0;34m\u001b[0m\u001b[0m\n\u001b[0;32m---> 22\u001b[0;31m             \u001b[0mrandom_list\u001b[0m \u001b[0;34m=\u001b[0m \u001b[0mchange_letter\u001b[0m\u001b[0;34m(\u001b[0m\u001b[0mindex\u001b[0m\u001b[0;34m,\u001b[0m \u001b[0mrandom_list\u001b[0m\u001b[0;34m)\u001b[0m\u001b[0;34m\u001b[0m\u001b[0;34m\u001b[0m\u001b[0m\n\u001b[0m\u001b[1;32m     23\u001b[0m             \u001b[0mcheck_list\u001b[0m \u001b[0;34m=\u001b[0m \u001b[0;34m(\u001b[0m\u001b[0mrandom_list\u001b[0m\u001b[0;34m)\u001b[0m\u001b[0;34m\u001b[0m\u001b[0;34m\u001b[0m\u001b[0m\n\u001b[1;32m     24\u001b[0m         \u001b[0;32melse\u001b[0m\u001b[0;34m:\u001b[0m\u001b[0;34m\u001b[0m\u001b[0;34m\u001b[0m\u001b[0m\n",
      "\u001b[0;31mNameError\u001b[0m: name 'change_letter' is not defined"
     ]
    }
   ],
   "source": [
    "def check_list(random_list):\n",
    "    ele = random_list[0]\n",
    "    check = True\n",
    "    for item in random_list:\n",
    "        if ele != item:\n",
    "            check = False\n",
    "            break\n",
    "    if (check == True):\n",
    "        # print('YOU WIN')\n",
    "        quit()\n",
    "\n",
    "\n",
    "\n",
    "\n",
    "hangman(words)\n"
   ]
  },
  {
   "cell_type": "code",
   "execution_count": null,
   "metadata": {},
   "outputs": [],
   "source": []
  }
 ],
 "metadata": {
  "kernelspec": {
   "display_name": "Python 3",
   "language": "python",
   "name": "python3"
  },
  "language_info": {
   "codemirror_mode": {
    "name": "ipython",
    "version": 3
   },
   "file_extension": ".py",
   "mimetype": "text/x-python",
   "name": "python",
   "nbconvert_exporter": "python",
   "pygments_lexer": "ipython3",
   "version": "3.8.5"
  }
 },
 "nbformat": 4,
 "nbformat_minor": 4
}
